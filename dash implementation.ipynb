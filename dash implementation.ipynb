{
 "cells": [
  {
   "cell_type": "markdown",
   "id": "a2452f2f",
   "metadata": {},
   "source": [
    "# MIT Building Energy Usage"
   ]
  },
  {
   "cell_type": "markdown",
   "id": "b0ebce36",
   "metadata": {},
   "source": [
    "The goal of this project is to visualize MIT building energy usage over the past ten years. This is part of a broader project to understand MIT's building energy consumption, investigate trends, patterns, and inefficiencies, and ultimately, find a way to get to net zero energy emissions potentially through the use of advanced thermal heat pumps.\n",
    "\n",
    "This notebook demonstrates the process behind creating an interactive choropleth map of MIT's building energy usage from preliminary data collection to the end. The graphic will contain the following features:\n",
    "- map of MIT campus\n",
    "- building's colored according to energy consumption\n",
    "- timeslider with montly divisions spanning 10 years\n",
    "- menu to select between buildings' chilled water, electricity, and steam usage\n",
    "- toggle to view energy consumption on an absolute scale, as energy/gross area, or energy/yearly max (in other words, the seasonal blooming behavior)\n",
    "\n",
    "Below is a static image of the final result to give context while reading through the notebook."
   ]
  },
  {
   "cell_type": "markdown",
   "id": "ff35c691",
   "metadata": {},
   "source": [
    "![title](img/final-result.png)"
   ]
  },
  {
   "cell_type": "markdown",
   "id": "d5ee31a1",
   "metadata": {},
   "source": [
    "# Imports"
   ]
  },
  {
   "cell_type": "code",
   "execution_count": 1,
   "id": "ad5abcec",
   "metadata": {},
   "outputs": [],
   "source": [
    "# data imports\n",
    "import pandas as pd\n",
    "import geopandas as gpd\n",
    "from shapely import wkt\n",
    "import json\n",
    "\n",
    "#plotly imports\n",
    "import plotly.graph_objects as go\n",
    "\n",
    "#generic imports\n",
    "import numpy as np\n",
    "from dateutil.relativedelta import relativedelta\n",
    "\n",
    "# dash imports\n",
    "from jupyter_dash import JupyterDash\n",
    "from dash import dcc, html\n",
    "from dash.dependencies import Input, Output, State\n",
    "\n",
    "# loccal location of data files\n",
    "filepath = '/Users/kmak/Desktop/EC.719/Building Energy Visualization/net-zero-dlab/Data files'"
   ]
  },
  {
   "cell_type": "markdown",
   "id": "1e24839f",
   "metadata": {},
   "source": [
    "# Data Manipulation"
   ]
  },
  {
   "cell_type": "markdown",
   "id": "23c6b5a0",
   "metadata": {},
   "source": [
    "In this section we read from input csv files into a pandas dataframe, remove eroneious data, and manipulate the data to be in a convienient format for processing in the plot."
   ]
  },
  {
   "cell_type": "code",
   "execution_count": 2,
   "id": "b0b78fd1",
   "metadata": {},
   "outputs": [],
   "source": [
    "# read csv file\n",
    "energy = pd.read_csv(filepath + '/dash.csv')"
   ]
  },
  {
   "cell_type": "code",
   "execution_count": 3,
   "id": "d2e79b1f",
   "metadata": {},
   "outputs": [],
   "source": [
    "# remove buildings without a geometry\n",
    "energy = energy.dropna(subset=['geometry'], axis=0, inplace=False)"
   ]
  },
  {
   "cell_type": "code",
   "execution_count": 4,
   "id": "21f36e82",
   "metadata": {},
   "outputs": [],
   "source": [
    "# remove all rows for energy types not Chilled Water, Electricity, or Steam\n",
    "# there are a few rows for Gas, etc. that are irrelevant here because there is so little data\n",
    "energy = energy[ (energy['energy_type'] == 'Chilled Water') | \n",
    "                (energy['energy_type'] == 'Electricity') | \n",
    "               (energy['energy_type'] == 'Steam')]"
   ]
  },
  {
   "cell_type": "code",
   "execution_count": 5,
   "id": "ae0e7593",
   "metadata": {},
   "outputs": [],
   "source": [
    "# remove data for building W97 because the raw building footprint for W97 is incorrect\n",
    "energy = energy[energy.building != 'W97']"
   ]
  },
  {
   "cell_type": "code",
   "execution_count": 6,
   "id": "733d716a",
   "metadata": {},
   "outputs": [],
   "source": [
    "# convert type of date column from string to datetime\n",
    "energy['date'] = pd.to_datetime(energy['date'], infer_datetime_format=True)"
   ]
  },
  {
   "cell_type": "code",
   "execution_count": 7,
   "id": "510cb25f",
   "metadata": {},
   "outputs": [],
   "source": [
    "# define a function to convert a time into months since the initial data measurement\n",
    "# to be used for time interpretation with a time slider later\n",
    "startDate = energy['date'].min() # earliest measurement date\n",
    "def monthsSince(date):\n",
    "    diff = relativedelta(pd.to_datetime(date), pd.to_datetime(startDate)) # find time difference from initial measurement date\n",
    "    return diff.months + diff.years * 12 # convert to months"
   ]
  },
  {
   "cell_type": "code",
   "execution_count": 8,
   "id": "9497a20f",
   "metadata": {},
   "outputs": [],
   "source": [
    "# create a new column storing the months since version of the date\n",
    "energy['months_since'] = energy['date'].apply(monthsSince)"
   ]
  },
  {
   "cell_type": "markdown",
   "id": "ec242266",
   "metadata": {},
   "source": [
    "# Building Footprint"
   ]
  },
  {
   "cell_type": "markdown",
   "id": "a5629f54",
   "metadata": {},
   "source": [
    "Here we create a geojson file that maps each building number to a list of coordinates representing the building outline. When creating the map, this allows us to correctly link between the building foorprint and the energy value via the building number."
   ]
  },
  {
   "cell_type": "code",
   "execution_count": 9,
   "id": "2c474859",
   "metadata": {},
   "outputs": [],
   "source": [
    "# function to convert dataframe to geojson\n",
    "def df_to_geojson(df, properties, geometry='geometry'):\n",
    "    # create a new python dict to contain our geojson data, using geojson format\n",
    "    geojson = {'type':'FeatureCollection', 'features':[]}\n",
    "\n",
    "    # loop through each row in the dataframe and convert each row to geojson format\n",
    "    for _, row in df.iterrows():\n",
    "        # create a feature template to fill in\n",
    "        feature = {'type':'Feature',\n",
    "                   'properties':{},\n",
    "                   'geometry':{'type':'Polygon',\n",
    "                               'coordinates':[]}}\n",
    "\n",
    "        polygon = row['geometry']\n",
    "        feature['geometry']['coordinates'] = [np.asarray(polygon.exterior.coords).tolist()]\n",
    "\n",
    "        # for each column, get the value and add it as a new feature property\n",
    "        for prop in properties:\n",
    "            feature['properties'][prop] = row[prop]\n",
    "        \n",
    "        # add this feature (aka, converted dataframe row) to the list of features inside our dict\n",
    "        geojson['features'].append(feature)\n",
    "    \n",
    "    return geojson"
   ]
  },
  {
   "cell_type": "code",
   "execution_count": 10,
   "id": "f436c134",
   "metadata": {},
   "outputs": [],
   "source": [
    "# read in building footprint data\n",
    "buildingFootprints = pd.read_csv(filepath + '/building-footprint.csv')\n",
    "# convert values in geometry column from strings to Geometry objects\n",
    "buildingFootprints['geometry'] = gpd.GeoSeries.from_wkt(buildingFootprints['geometry'])\n",
    "\n",
    "# call previously defined function to create geojson\n",
    "properties=['building']\n",
    "geojson = df_to_geojson(buildingFootprints, properties)"
   ]
  },
  {
   "cell_type": "markdown",
   "id": "504eff0f",
   "metadata": {},
   "source": [
    "# Helper Functions for Map Display"
   ]
  },
  {
   "cell_type": "markdown",
   "id": "de7cd703",
   "metadata": {},
   "source": [
    "This defines several functions to be used for the stylistic layout and design of the map."
   ]
  },
  {
   "cell_type": "code",
   "execution_count": 11,
   "id": "7f653fee",
   "metadata": {},
   "outputs": [],
   "source": [
    "# convert a date to a convenient string representation\n",
    "# for example, turns 2010-02-01 00:00:00 into 02/10\n",
    "def dateMark(date):\n",
    "    return str(date)[5:7] + '/' + str(date)[2:4]\n",
    "\n",
    "# finds date m months from first measurement date\n",
    "def dateFrom(m):\n",
    "    return relativedelta(months = m) + pd.to_datetime(startDate)"
   ]
  },
  {
   "cell_type": "code",
   "execution_count": 12,
   "id": "cd1c6f27",
   "metadata": {},
   "outputs": [],
   "source": [
    "# only show every slider labels every 4 months\n",
    "def markDisplay(i):\n",
    "    if i % 4 == 0:\n",
    "        return 'block'\n",
    "    return 'none'\n",
    "\n",
    "# show every 12th month on the time slider in blue\n",
    "def colorDisplay(i):\n",
    "    if i % 12 == 0:\n",
    "        return 'blue'"
   ]
  },
  {
   "cell_type": "code",
   "execution_count": 13,
   "id": "173510c1",
   "metadata": {},
   "outputs": [],
   "source": [
    "# colorbar label depending on energy format\n",
    "def colorbarLabel(energyFormat):\n",
    "    if energyFormat == 'MMBTU':\n",
    "        return 'MMBTU'\n",
    "    if energyFormat == 'MMBTU_per_area':\n",
    "        return 'MMBTU/area'\n",
    "    if energyFormat == 'MMBTU_bloom':\n",
    "        return '% bloom'"
   ]
  },
  {
   "cell_type": "code",
   "execution_count": 14,
   "id": "454ee9f6",
   "metadata": {},
   "outputs": [],
   "source": [
    "# sets the max colorbar value depending on which plot is being displayed\n",
    "def zmax(energyType, energyFormat):\n",
    "    if energyFormat == 'MMBTU_per_area':\n",
    "        return 0.02\n",
    "    if energyFormat == 'MMBTU_bloom':\n",
    "        return 1\n",
    "    if energyType == 'Chilled Water':\n",
    "        return 6000\n",
    "    if energyType == 'Electricity':\n",
    "        return 6000\n",
    "    if energyType == 'Steam':\n",
    "        return 12000"
   ]
  },
  {
   "cell_type": "markdown",
   "id": "340630a4",
   "metadata": {},
   "source": [
    "# Interactive Choropleth Map"
   ]
  },
  {
   "cell_type": "markdown",
   "id": "a90cc54e",
   "metadata": {},
   "source": [
    "We use the [Dash](https://dash.plotly.com/introduction) framework to create an interactive choropleth map of MIT building energy usage over time as explained at the beginning. Dash is a written on top of Plotly.js (a charting library) and React.js (a library for building user interfaces) and encorporates html (language for web page content and styling) and css (styling language) for styling and non-chart content.\n",
    "\n",
    "In general the framework for creating a dash app is to define the layout of the app including all static content, interactive content, and placeholders for the outputs from user interaction. This is mainly in html and css. As you will see, we will make use of several pre-build app elements like drop down menus, radio buttons, and sliders.\n",
    "\n",
    "The `id` tags in the layout section below connects the layout elements to the `Inputs` and `Outputs` of a later function which describes the user interaction."
   ]
  },
  {
   "cell_type": "code",
   "execution_count": 15,
   "id": "c888d7a0",
   "metadata": {
    "scrolled": false
   },
   "outputs": [],
   "source": [
    "app = JupyterDash(__name__) # creates app framework\n",
    "\n",
    "# describes the layout of the app, uses an html/css framework\n",
    "app.layout = html.Div([\n",
    "    # menu selector items\n",
    "    html.Div([\n",
    "        html.Div([\n",
    "            html.H3('Energy Type'), # menu title\n",
    "            # dropdown menu for each of the different energy types Chilled Water, Electricity, and Steam\n",
    "            dcc.Dropdown(\n",
    "                energy['energy_type'].unique(),\n",
    "                'Chilled Water', # default value\n",
    "                id='energy-type'\n",
    "            ),\n",
    "        ], style={'width': '48%', 'display': 'inline-block'}), # display formating\n",
    "        \n",
    "        html.Div([\n",
    "            html.H3('Data Format'), # menu title\n",
    "            # buttons for each of the energy formats: absolute, per area, and yearly bloom\n",
    "            dcc.RadioItems(\n",
    "                options=[\n",
    "                    {'label':'Absolute', 'value':'MMBTU'},\n",
    "                    {'label':'Per Area', 'value':'MMBTU_per_area'},\n",
    "                    {'label':'Yearly Bloom', 'value':'MMBTU_bloom'}\n",
    "                ],\n",
    "                value='MMBTU', # default value\n",
    "                id='energy-format',\n",
    "                inline=True,\n",
    "                inputStyle={'margin-left': '20px',\n",
    "                           'margin-right': '5px'}\n",
    "            )\n",
    "        ], style={'width': '48%', \n",
    "                  'float': 'right', \n",
    "                  'display': 'inline-block', \n",
    "                  'padding': '5px 0px 5px 0px'},\n",
    "        ) # display formating\n",
    "        \n",
    "    ]),\n",
    "\n",
    "    # placeholder for graph to be created below\n",
    "    dcc.Graph(id='choropleth-mapbox'),\n",
    "\n",
    "    # placeholder for month label\n",
    "    html.H4(\n",
    "        id='date-output',\n",
    "        style={'text-align': 'center',\n",
    "              'font-size': '15px'}\n",
    "    ),\n",
    "    \n",
    "    # time slider \n",
    "    dcc.Slider(\n",
    "        monthsSince(energy['date'].min()), # start value\n",
    "        monthsSince(energy['date'].max()), # end value\n",
    "        step=None,\n",
    "        id='date--slider',\n",
    "        value=monthsSince(energy['date'].min()), # default value\n",
    "        marks={ # mark formatting and labeling\n",
    "            monthsSince(date): {'label': dateMark(date), \n",
    "                                'style': \n",
    "                                    {'display': markDisplay(i),\n",
    "                                     'transform': 'rotate(-45deg)',\n",
    "                                    'color': colorDisplay(i)}} \n",
    "            for i, date in enumerate(energy['date'].unique())\n",
    "        },\n",
    "        updatemode='drag'\n",
    "    )\n",
    "])"
   ]
  },
  {
   "cell_type": "markdown",
   "id": "a39b0949",
   "metadata": {},
   "source": [
    "Next are one or more `@app.callback` functions which specify how the app should react to user input.\n",
    "\n",
    "In this section, first defined are the `Outputs` and `Inputs`. `Inputs` are all user interactions that should result in a rerendering of the app and `Outputs` are all app elements that should be updated in response to a change in `Input`. In other words, every time an `Input` is changed, the update function gets called, and the `Outputs` are updated. Inputs and Outputs are written as `Input('id name', 'layout property to be changed')`.\n",
    "\n",
    "In the function, we select the section of the dataframe we would like to display based on the input values, and create a choropleth map from this subsection.\n",
    "\n",
    "The function returns values separated by commas cooresponding to the `Outputs` listed (in order)."
   ]
  },
  {
   "cell_type": "code",
   "execution_count": 16,
   "id": "ea197ae5",
   "metadata": {},
   "outputs": [],
   "source": [
    "@app.callback(\n",
    "    Output('choropleth-mapbox', 'figure'), # Output: graph\n",
    "    Output('date-output', 'children'), # Output: graph\n",
    "    Input('energy-type', 'value'), # Input: dropdown menu energy type (chilled water, etc.)\n",
    "    Input('energy-format', 'value'), # Input: radio button energy format (absolute, etc.)\n",
    "    Input('date--slider', 'value')) # Input: time slider\n",
    "def update_graph(energy_type_name, energy_format_name, date_value):\n",
    "    datedf = energy[energy['months_since'] == date_value] # extract rows for particular month according to slider\n",
    "    dff = datedf[datedf['energy_type'] == energy_type_name] # extract rows of particular energy type according to dropdown\n",
    "    \n",
    "    fig = go.Figure() # figure holder\n",
    "    # creates Choropleth map\n",
    "    fig.add_trace(\n",
    "            go.Choroplethmapbox(\n",
    "                geojson=geojson, # describes geometries\n",
    "                featureidkey = 'properties.building', # building number as id linking geometries to energy data\n",
    "                locations = dff.building, # building number as id linking geometries to energy data\n",
    "                z = dff[energy_format_name], # color mapped from values in MMBTU or MMBTU_per_area etc. column\n",
    "                \n",
    "                # colorbar stylistic parameters\n",
    "                colorscale='Reds',\n",
    "                zmin = 0,\n",
    "                zmax = zmax(energy_type_name, energy_format_name),\n",
    "                showscale=True,\n",
    "                colorbar={'title': colorbarLabel(energy_format_name)},\n",
    "         )\n",
    "    )\n",
    "    \n",
    "    # describes container layout for map\n",
    "    fig.update_layout(\n",
    "          title=f'{energy_type_name} Usage',\n",
    "          mapbox_style='carto-positron',\n",
    "          autosize=True,\n",
    "          mapbox_center={'lat':42.359, 'lon':-71.095},\n",
    "          mapbox_zoom=14\n",
    "        \n",
    "    )\n",
    "\n",
    "    fig.update_layout(margin={'l': 0, 'b': 0, 't': 70, 'r': 0}, hovermode='closest')\n",
    "\n",
    "    return fig, f'{dateMark(dateFrom(date_value))}'"
   ]
  },
  {
   "cell_type": "code",
   "execution_count": 17,
   "id": "301db149",
   "metadata": {},
   "outputs": [
    {
     "data": {
      "text/html": [
       "\n",
       "        <iframe\n",
       "            width=\"100%\"\n",
       "            height=\"650\"\n",
       "            src=\"http://127.0.0.1:8050/\"\n",
       "            frameborder=\"0\"\n",
       "            allowfullscreen\n",
       "            \n",
       "        ></iframe>\n",
       "        "
      ],
      "text/plain": [
       "<IPython.lib.display.IFrame at 0x7fc8db329cd0>"
      ]
     },
     "metadata": {},
     "output_type": "display_data"
    }
   ],
   "source": [
    "# runs app\n",
    "app.run_server(mode=\"inline\")"
   ]
  }
 ],
 "metadata": {
  "kernelspec": {
   "display_name": "Python 3 (ipykernel)",
   "language": "python",
   "name": "python3"
  },
  "language_info": {
   "codemirror_mode": {
    "name": "ipython",
    "version": 3
   },
   "file_extension": ".py",
   "mimetype": "text/x-python",
   "name": "python",
   "nbconvert_exporter": "python",
   "pygments_lexer": "ipython3",
   "version": "3.8.12"
  }
 },
 "nbformat": 4,
 "nbformat_minor": 5
}
