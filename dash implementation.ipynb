{
 "cells": [
  {
   "cell_type": "code",
   "execution_count": 1,
   "id": "ad5abcec",
   "metadata": {},
   "outputs": [
    {
     "name": "stderr",
     "output_type": "stream",
     "text": [
      "/var/folders/09/m5s9tp9d3jv_16bdmpjm79rw0000gn/T/ipykernel_61677/3024724528.py:16: UserWarning:\n",
      "\n",
      "\n",
      "The dash_core_components package is deprecated. Please replace\n",
      "`import dash_core_components as dcc` with `from dash import dcc`\n",
      "\n",
      "/var/folders/09/m5s9tp9d3jv_16bdmpjm79rw0000gn/T/ipykernel_61677/3024724528.py:17: UserWarning:\n",
      "\n",
      "\n",
      "The dash_html_components package is deprecated. Please replace\n",
      "`import dash_html_components as html` with `from dash import html`\n",
      "\n"
     ]
    },
    {
     "data": {
      "text/html": [
       "        <script type=\"text/javascript\">\n",
       "        window.PlotlyConfig = {MathJaxConfig: 'local'};\n",
       "        if (window.MathJax) {MathJax.Hub.Config({SVG: {font: \"STIX-Web\"}});}\n",
       "        if (typeof require !== 'undefined') {\n",
       "        require.undef(\"plotly\");\n",
       "        requirejs.config({\n",
       "            paths: {\n",
       "                'plotly': ['https://cdn.plot.ly/plotly-2.9.0.min']\n",
       "            }\n",
       "        });\n",
       "        require(['plotly'], function(Plotly) {\n",
       "            window._Plotly = Plotly;\n",
       "        });\n",
       "        }\n",
       "        </script>\n",
       "        "
      ]
     },
     "metadata": {},
     "output_type": "display_data"
    }
   ],
   "source": [
    "import pandas as pd\n",
    "import numpy as np\n",
    "import glob\n",
    "import os\n",
    "import plotly.express as px\n",
    "from shapely.geometry.polygon import Polygon\n",
    "import geopandas as gpd\n",
    "from plotly.offline import plot\n",
    "import plotly.graph_objects as go\n",
    "import shapely\n",
    "from shapely import wkt\n",
    "import pandas as pd\n",
    "import json\n",
    "from dateutil import relativedelta\n",
    "from jupyter_dash import JupyterDash\n",
    "import dash_core_components as dcc\n",
    "import dash_html_components as html\n",
    "from dash.dependencies import Input, Output, State\n",
    "from plotly.offline import download_plotlyjs, init_notebook_mode, plot, iplot\n",
    "import nbformat\n",
    "\n",
    "filepath = '/Users/kmak/Desktop/EC.719/Building Energy Visualization/net-zero-dlab/Data files'\n",
    "\n",
    "\n",
    "\t\n",
    "init_notebook_mode(connected=True)"
   ]
  },
  {
   "cell_type": "code",
   "execution_count": 2,
   "id": "b0b78fd1",
   "metadata": {},
   "outputs": [],
   "source": [
    "energy = pd.read_csv(filepath + '/dash.csv') # read csv file\n",
    "energy['date'] = pd.to_datetime(energy['date'], infer_datetime_format=True) # convert type of date column from string to datetime\n",
    "# energy['geometry'] = gpd.GeoSeries.from_wkt(energy['geometry']) # convert type of geometry column"
   ]
  },
  {
   "cell_type": "code",
   "execution_count": 3,
   "id": "d2e79b1f",
   "metadata": {},
   "outputs": [],
   "source": [
    "energy = energy.dropna(subset=['geometry'], axis=0, inplace=False) # remove buildings without a geometry"
   ]
  },
  {
   "cell_type": "code",
   "execution_count": 4,
   "id": "21f36e82",
   "metadata": {},
   "outputs": [],
   "source": [
    "# remove all rows for energy types not Chilled Water, Electricity, or Steam\n",
    "energy = energy[ (energy['energy_type'] == 'Chilled Water') | \n",
    "                (energy['energy_type'] == 'Electricity') | \n",
    "               (energy['energy_type'] == 'Steam')]"
   ]
  },
  {
   "cell_type": "code",
   "execution_count": 5,
   "id": "2c474859",
   "metadata": {},
   "outputs": [],
   "source": [
    "def df_to_geojson(df, properties, geometry='geometry'):\n",
    "    # create a new python dict to contain our geojson data, using geojson format\n",
    "    geojson = {'type':'FeatureCollection', 'features':[]}\n",
    "\n",
    "    # loop through each row in the dataframe and convert each row to geojson format\n",
    "    for _, row in df.iterrows():\n",
    "        # create a feature template to fill in\n",
    "        feature = {'type':'Feature',\n",
    "                   'properties':{},\n",
    "                   'geometry':{'type':'Polygon',\n",
    "                               'coordinates':[]}}\n",
    "\n",
    "        polygon = row['geometry']\n",
    "        feature['geometry']['coordinates'] = [np.asarray(polygon.exterior.coords).tolist()]\n",
    "\n",
    "        # for each column, get the value and add it as a new feature property\n",
    "        for prop in properties:\n",
    "            feature['properties'][prop] = row[prop]\n",
    "        \n",
    "        # add this feature (aka, converted dataframe row) to the list of features inside our dict\n",
    "        geojson['features'].append(feature)\n",
    "    \n",
    "    return geojson"
   ]
  },
  {
   "cell_type": "code",
   "execution_count": 6,
   "id": "f436c134",
   "metadata": {},
   "outputs": [],
   "source": [
    "buildingFootprints = pd.read_csv(filepath + '/building-footprint.csv')\n",
    "buildingFootprints['geometry'] = gpd.GeoSeries.from_wkt(buildingFootprints['geometry'])\n",
    "\n",
    "properties=['building']\n",
    "geojson = df_to_geojson(buildingFootprints, properties)"
   ]
  },
  {
   "cell_type": "code",
   "execution_count": 7,
   "id": "7f653fee",
   "metadata": {},
   "outputs": [],
   "source": [
    "startDate = energy['date'].min()\n",
    "def monthsSince(date):\n",
    "    diff = relativedelta.relativedelta(pd.to_datetime(date), pd.to_datetime(startDate)) # find time difference from initial measurement date\n",
    "    return diff.months + diff.years * 12 # convert to months\n",
    "\n",
    "def dateMark(date):\n",
    "    return str(date)[5:7] + '/' + str(date)[2:4] # convert 2010-02-01 00:00:00 to 02/10\n",
    "    "
   ]
  },
  {
   "cell_type": "code",
   "execution_count": 8,
   "id": "cd1c6f27",
   "metadata": {},
   "outputs": [],
   "source": [
    "def markDisplay(i):\n",
    "    if i % 4 == 0:\n",
    "        return 'block'\n",
    "    return 'none'\n",
    "\n",
    "def colorDisplay(i):\n",
    "    if i % 12 == 0:\n",
    "        return 'blue'"
   ]
  },
  {
   "cell_type": "code",
   "execution_count": 9,
   "id": "454ee9f6",
   "metadata": {},
   "outputs": [],
   "source": [
    "def zmax(energyFormat):\n",
    "    if energyFormat == 'MMBTU':\n",
    "        return 6000\n",
    "    if energyFormat == 'MMBTU_per_area':\n",
    "        return 0.02\n",
    "    if energyFormat == 'MMBTU_bloom':\n",
    "        return 1"
   ]
  },
  {
   "cell_type": "code",
   "execution_count": 10,
   "id": "c888d7a0",
   "metadata": {
    "scrolled": false
   },
   "outputs": [
    {
     "data": {
      "text/html": [
       "\n",
       "        <iframe\n",
       "            width=\"100%\"\n",
       "            height=\"650\"\n",
       "            src=\"http://127.0.0.1:8050/\"\n",
       "            frameborder=\"0\"\n",
       "            allowfullscreen\n",
       "            \n",
       "        ></iframe>\n",
       "        "
      ],
      "text/plain": [
       "<IPython.lib.display.IFrame at 0x7fe4fd4a48b0>"
      ]
     },
     "metadata": {},
     "output_type": "display_data"
    }
   ],
   "source": [
    "app = JupyterDash(__name__)\n",
    "\n",
    "df = energy\n",
    "\n",
    "app.layout = html.Div([\n",
    "    html.Div([\n",
    "\n",
    "        html.Div([\n",
    "            dcc.Dropdown(\n",
    "                df['energy_type'].unique(),\n",
    "                'Chilled Water',\n",
    "                id='energy-type'\n",
    "            ),\n",
    "            dcc.RadioItems(\n",
    "                ['MMBTU', 'MMBTU_per_area', 'MMBTU_bloom'],\n",
    "                'MMBTU',\n",
    "                id='energy-format',\n",
    "                inline=True\n",
    "            )\n",
    "        ], style={'width': '48%', 'display': 'inline-block'})\n",
    "    ]),\n",
    "\n",
    "    dcc.Graph(id='choropleth-mapbox'),\n",
    "\n",
    "    dcc.Slider(\n",
    "        monthsSince(df['date'].min()),\n",
    "        monthsSince(df['date'].max()),\n",
    "        step=None,\n",
    "        id='date--slider',\n",
    "        value=monthsSince(df['date'].min()),\n",
    "        marks={\n",
    "            monthsSince(date): {'label': dateMark(date), \n",
    "                                'style': \n",
    "                                    {'display': markDisplay(i),\n",
    "                                     'transform': 'rotate(-45deg)',\n",
    "                                    'color': colorDisplay(i)}} \n",
    "            for i, date in enumerate(df['date'].unique())\n",
    "        },\n",
    "        updatemode='drag'\n",
    "    )\n",
    "])\n",
    "\n",
    "\n",
    "@app.callback(\n",
    "    Output('choropleth-mapbox', 'figure'),\n",
    "    Input('energy-type', 'value'),\n",
    "    Input('energy-format', 'value'),\n",
    "    Input('date--slider', 'value'))\n",
    "def update_graph(energy_type_name, energy_format_name, date_value):\n",
    "    datedf = energy.copy()\n",
    "    datedf['date'] = datedf['date'].apply(monthsSince)\n",
    "    datedf = datedf[datedf['date'] == date_value] # extract rows of particular date\n",
    "    dff = datedf[datedf['energy_type'] == energy_type_name] # extract rows of particular energy type\n",
    "    \n",
    "    fig = go.Figure()\n",
    "    fig.add_trace(\n",
    "            go.Choroplethmapbox(\n",
    "                geojson=geojson,\n",
    "                featureidkey = 'properties.building',\n",
    "                locations = dff.building,\n",
    "                z = dff[energy_format_name],\n",
    "                colorscale='Reds',\n",
    "                zmin = 0,\n",
    "                zmax = zmax(energy_format_name),\n",
    "                showscale=True,\n",
    "                colorbar={\"title\": f'{energy_format_name}'},\n",
    "         )\n",
    "    )\n",
    "    \n",
    "    fig.update_layout(\n",
    "          title=f'{energy_type_name} Usage',\n",
    "          mapbox_style='carto-positron',\n",
    "          autosize=True,\n",
    "          mapbox_center={'lat':42.359, 'lon':-71.095},\n",
    "          mapbox_zoom=14\n",
    "        \n",
    "    )\n",
    "\n",
    "    fig.update_layout(margin={'l': 40, 'b': 40, 't': 70, 'r': 0}, hovermode='closest')\n",
    "\n",
    "    return fig\n",
    "\n",
    "\n",
    "app.run_server(mode=\"inline\")"
   ]
  }
 ],
 "metadata": {
  "kernelspec": {
   "display_name": "Python 3 (ipykernel)",
   "language": "python",
   "name": "python3"
  },
  "language_info": {
   "codemirror_mode": {
    "name": "ipython",
    "version": 3
   },
   "file_extension": ".py",
   "mimetype": "text/x-python",
   "name": "python",
   "nbconvert_exporter": "python",
   "pygments_lexer": "ipython3",
   "version": "3.8.12"
  }
 },
 "nbformat": 4,
 "nbformat_minor": 5
}
